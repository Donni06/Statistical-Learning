{
 "cells": [
  {
   "cell_type": "code",
   "execution_count": 1,
   "metadata": {},
   "outputs": [],
   "source": [
    "import pickle\n",
    "import pandas as pd\n",
    "import numpy as np\n",
    "import joblib\n",
    "from sklearn.model_selection import train_test_split\n",
    "from sklearn.metrics import mean_squared_error, r2_score\n",
    "from sklearn.linear_model import LinearRegression, RidgeCV, LassoCV\n",
    "from sklearn import svm\n",
    "from sklearn.tree import DecisionTreeRegressor\n",
    "from sklearn.ensemble import RandomForestRegressor, AdaBoostRegressor\n",
    "from math import sqrt\n",
    "from collections import OrderedDict\n",
    "from itertools import product\n",
    "from copy import deepcopy\n",
    "\n",
    "import seaborn as sns\n",
    "import matplotlib.pyplot as plt\n",
    "\n",
    "import warnings\n",
    "warnings.filterwarnings('ignore')"
   ]
  },
  {
   "cell_type": "code",
   "execution_count": 2,
   "metadata": {},
   "outputs": [
    {
     "data": {
      "text/html": [
       "<div>\n",
       "<style scoped>\n",
       "    .dataframe tbody tr th:only-of-type {\n",
       "        vertical-align: middle;\n",
       "    }\n",
       "\n",
       "    .dataframe tbody tr th {\n",
       "        vertical-align: top;\n",
       "    }\n",
       "\n",
       "    .dataframe thead th {\n",
       "        text-align: right;\n",
       "    }\n",
       "</style>\n",
       "<table border=\"1\" class=\"dataframe\">\n",
       "  <thead>\n",
       "    <tr style=\"text-align: right;\">\n",
       "      <th></th>\n",
       "      <th>id</th>\n",
       "      <th>num_followers</th>\n",
       "      <th>collaborative</th>\n",
       "      <th>num_tracks</th>\n",
       "      <th>track_acousticness_avg</th>\n",
       "      <th>track_acousticness_std</th>\n",
       "      <th>track_album_popularity_avg</th>\n",
       "      <th>track_album_popularity_std</th>\n",
       "      <th>track_album_popularity_max</th>\n",
       "      <th>track_artists_genres_unique</th>\n",
       "      <th>...</th>\n",
       "      <th>track_std_artist_num_followers_std</th>\n",
       "      <th>track_std_artist_popularity_avg</th>\n",
       "      <th>track_std_artist_popularity_std</th>\n",
       "      <th>track_tempo_avg</th>\n",
       "      <th>track_tempo_std</th>\n",
       "      <th>track_time_signature_mode</th>\n",
       "      <th>track_time_signature_unique</th>\n",
       "      <th>track_valence_avg</th>\n",
       "      <th>track_valence_std</th>\n",
       "      <th>genre</th>\n",
       "    </tr>\n",
       "  </thead>\n",
       "  <tbody>\n",
       "    <tr>\n",
       "      <th>0</th>\n",
       "      <td>37i9dQZF1DX9sIqqvKsjG8</td>\n",
       "      <td>1359200</td>\n",
       "      <td>False</td>\n",
       "      <td>304</td>\n",
       "      <td>0.991040</td>\n",
       "      <td>0.007050</td>\n",
       "      <td>50.620000</td>\n",
       "      <td>12.132419</td>\n",
       "      <td>69</td>\n",
       "      <td>6</td>\n",
       "      <td>...</td>\n",
       "      <td>0.049749</td>\n",
       "      <td>0.000000</td>\n",
       "      <td>0.000000</td>\n",
       "      <td>116.403260</td>\n",
       "      <td>33.636115</td>\n",
       "      <td>4</td>\n",
       "      <td>4</td>\n",
       "      <td>0.244111</td>\n",
       "      <td>0.137205</td>\n",
       "      <td>other</td>\n",
       "    </tr>\n",
       "    <tr>\n",
       "      <th>1</th>\n",
       "      <td>5oxZIYU1L9N1CczN0C4JkM</td>\n",
       "      <td>372240</td>\n",
       "      <td>False</td>\n",
       "      <td>519</td>\n",
       "      <td>0.781945</td>\n",
       "      <td>0.276167</td>\n",
       "      <td>42.810000</td>\n",
       "      <td>5.611943</td>\n",
       "      <td>53</td>\n",
       "      <td>10</td>\n",
       "      <td>...</td>\n",
       "      <td>1050.024652</td>\n",
       "      <td>0.309889</td>\n",
       "      <td>1.507600</td>\n",
       "      <td>116.959680</td>\n",
       "      <td>34.743877</td>\n",
       "      <td>4</td>\n",
       "      <td>4</td>\n",
       "      <td>0.318979</td>\n",
       "      <td>0.202490</td>\n",
       "      <td>other</td>\n",
       "    </tr>\n",
       "    <tr>\n",
       "      <th>2</th>\n",
       "      <td>37i9dQZF1DWYmSg58uBxin</td>\n",
       "      <td>50518</td>\n",
       "      <td>False</td>\n",
       "      <td>125</td>\n",
       "      <td>0.952290</td>\n",
       "      <td>0.099856</td>\n",
       "      <td>44.450000</td>\n",
       "      <td>8.858188</td>\n",
       "      <td>64</td>\n",
       "      <td>21</td>\n",
       "      <td>...</td>\n",
       "      <td>15705.509150</td>\n",
       "      <td>0.485000</td>\n",
       "      <td>2.165012</td>\n",
       "      <td>109.472630</td>\n",
       "      <td>36.706674</td>\n",
       "      <td>4</td>\n",
       "      <td>4</td>\n",
       "      <td>0.157351</td>\n",
       "      <td>0.103388</td>\n",
       "      <td>other</td>\n",
       "    </tr>\n",
       "    <tr>\n",
       "      <th>3</th>\n",
       "      <td>4rmUneFYK2N9lxkaxJ3Qko</td>\n",
       "      <td>16862</td>\n",
       "      <td>False</td>\n",
       "      <td>55</td>\n",
       "      <td>0.518699</td>\n",
       "      <td>0.381347</td>\n",
       "      <td>42.345455</td>\n",
       "      <td>17.886733</td>\n",
       "      <td>65</td>\n",
       "      <td>28</td>\n",
       "      <td>...</td>\n",
       "      <td>151867.916528</td>\n",
       "      <td>1.154545</td>\n",
       "      <td>3.465247</td>\n",
       "      <td>119.323091</td>\n",
       "      <td>24.111534</td>\n",
       "      <td>4</td>\n",
       "      <td>3</td>\n",
       "      <td>0.092696</td>\n",
       "      <td>0.075302</td>\n",
       "      <td>other</td>\n",
       "    </tr>\n",
       "    <tr>\n",
       "      <th>4</th>\n",
       "      <td>37i9dQZF1DX8f5qTGj8FYl</td>\n",
       "      <td>204994</td>\n",
       "      <td>False</td>\n",
       "      <td>80</td>\n",
       "      <td>0.114581</td>\n",
       "      <td>0.135392</td>\n",
       "      <td>26.700000</td>\n",
       "      <td>13.990533</td>\n",
       "      <td>54</td>\n",
       "      <td>64</td>\n",
       "      <td>...</td>\n",
       "      <td>29321.146316</td>\n",
       "      <td>0.692723</td>\n",
       "      <td>2.162816</td>\n",
       "      <td>113.944575</td>\n",
       "      <td>21.818617</td>\n",
       "      <td>4</td>\n",
       "      <td>3</td>\n",
       "      <td>0.759212</td>\n",
       "      <td>0.163188</td>\n",
       "      <td>funk</td>\n",
       "    </tr>\n",
       "  </tbody>\n",
       "</table>\n",
       "<p>5 rows × 51 columns</p>\n",
       "</div>"
      ],
      "text/plain": [
       "                       id  num_followers  collaborative  num_tracks  \\\n",
       "0  37i9dQZF1DX9sIqqvKsjG8        1359200          False         304   \n",
       "1  5oxZIYU1L9N1CczN0C4JkM         372240          False         519   \n",
       "2  37i9dQZF1DWYmSg58uBxin          50518          False         125   \n",
       "3  4rmUneFYK2N9lxkaxJ3Qko          16862          False          55   \n",
       "4  37i9dQZF1DX8f5qTGj8FYl         204994          False          80   \n",
       "\n",
       "   track_acousticness_avg  track_acousticness_std  track_album_popularity_avg  \\\n",
       "0                0.991040                0.007050                   50.620000   \n",
       "1                0.781945                0.276167                   42.810000   \n",
       "2                0.952290                0.099856                   44.450000   \n",
       "3                0.518699                0.381347                   42.345455   \n",
       "4                0.114581                0.135392                   26.700000   \n",
       "\n",
       "   track_album_popularity_std  track_album_popularity_max  \\\n",
       "0                   12.132419                          69   \n",
       "1                    5.611943                          53   \n",
       "2                    8.858188                          64   \n",
       "3                   17.886733                          65   \n",
       "4                   13.990533                          54   \n",
       "\n",
       "   track_artists_genres_unique  ...  track_std_artist_num_followers_std  \\\n",
       "0                            6  ...                            0.049749   \n",
       "1                           10  ...                         1050.024652   \n",
       "2                           21  ...                        15705.509150   \n",
       "3                           28  ...                       151867.916528   \n",
       "4                           64  ...                        29321.146316   \n",
       "\n",
       "   track_std_artist_popularity_avg  track_std_artist_popularity_std  \\\n",
       "0                         0.000000                         0.000000   \n",
       "1                         0.309889                         1.507600   \n",
       "2                         0.485000                         2.165012   \n",
       "3                         1.154545                         3.465247   \n",
       "4                         0.692723                         2.162816   \n",
       "\n",
       "   track_tempo_avg  track_tempo_std  track_time_signature_mode  \\\n",
       "0       116.403260        33.636115                          4   \n",
       "1       116.959680        34.743877                          4   \n",
       "2       109.472630        36.706674                          4   \n",
       "3       119.323091        24.111534                          4   \n",
       "4       113.944575        21.818617                          4   \n",
       "\n",
       "   track_time_signature_unique  track_valence_avg  track_valence_std  genre  \n",
       "0                            4           0.244111           0.137205  other  \n",
       "1                            4           0.318979           0.202490  other  \n",
       "2                            4           0.157351           0.103388  other  \n",
       "3                            3           0.092696           0.075302  other  \n",
       "4                            3           0.759212           0.163188   funk  \n",
       "\n",
       "[5 rows x 51 columns]"
      ]
     },
     "execution_count": 2,
     "metadata": {},
     "output_type": "execute_result"
    }
   ],
   "source": [
    "playlists_df_full = pd.read_csv('D:\\\\Università\\\\SL\\\\playlists.csv')\n",
    "playlists_df_full.head()"
   ]
  },
  {
   "cell_type": "markdown",
   "metadata": {},
   "source": [
    "### Preprocessing the Data"
   ]
  },
  {
   "cell_type": "code",
   "execution_count": 3,
   "metadata": {},
   "outputs": [],
   "source": [
    "#Transforming the num of followers\n",
    "playlists_df_full['log_num_followers'] = np.log(list(playlists_df_full['num_followers']+1))\n",
    "playlists_df_full.drop(['num_followers'], axis=1, inplace=True)\n",
    "target = playlists_df_full['log_num_followers']\n",
    "playlists_df_full.drop(['log_num_followers'], axis=1, inplace=True)"
   ]
  },
  {
   "cell_type": "code",
   "execution_count": 4,
   "metadata": {},
   "outputs": [],
   "source": [
    "#Preprocessing categorical variables\n",
    "playlists_df_full.drop(['collaborative'], axis=1, inplace=True)\n",
    "categorical_predictors = ['genre', 'track_time_signature_mode', 'track_key_mode']\n",
    "numerical_predictors = list(set(playlists_df_full.columns.values) - set(categorical_predictors))\n",
    "\n",
    "playlists_df_full = pd.get_dummies(playlists_df_full, prefix = categorical_predictors, \n",
    "                                         columns = categorical_predictors, drop_first = True)"
   ]
  },
  {
   "cell_type": "code",
   "execution_count": 6,
   "metadata": {},
   "outputs": [],
   "source": [
    "#Splitting the data into Train, Test and Validation\n",
    "X_train, X_test_val, y_train, y_test_val = train_test_split(playlists_df_full, target, test_size=0.2, random_state=123)\n",
    "X_val, X_test, y_val, y_test = train_test_split(X_test_val, y_test_val, test_size=0.5, random_state=123)"
   ]
  },
  {
   "cell_type": "code",
   "execution_count": 8,
   "metadata": {},
   "outputs": [],
   "source": [
    "#Sotring the id\n",
    "id_train = X_train['id']\n",
    "id_val = X_val['id']\n",
    "id_test = X_test['id']\n",
    "id_test_val = X_test_val['id']\n",
    "X_train.drop(['id'], axis = 1, inplace = True)\n",
    "X_val.drop(['id'], axis = 1, inplace = True)\n",
    "X_test.drop(['id'], axis = 1, inplace = True)\n",
    "X_test_val.drop(['id'], axis = 1, inplace = True)"
   ]
  },
  {
   "cell_type": "code",
   "execution_count": 9,
   "metadata": {},
   "outputs": [],
   "source": [
    "#Scaling the numerical variables\n",
    "for col in X_train.columns:\n",
    "    if (X_train[col] == 0).all():\n",
    "        X_train.drop(col, axis=1, inplace=True)\n",
    "        X_test.drop(col, axis=1, inplace=True)\n",
    "        X_val.drop(col, axis=1, inplace=True)\n",
    "        X_test_val.drop(col, axis=1, inplace=True)\n",
    "    else:\n",
    "        if not np.logical_or((X_train[col]==0), ((X_train[col]==1))).all():\n",
    "            mean_train = X_train[col].mean()\n",
    "            std_train = X_train[col].std()\n",
    "            X_train[col] = (X_train[col] - mean_train) / std_train\n",
    "            X_val[col] = (X_val[col] - mean_train) / std_train\n",
    "            X_test[col] = (X_test[col] - mean_train) / std_train\n",
    "            X_test_val[col] = (X_test_val[col] - mean_train) / std_train"
   ]
  },
  {
   "cell_type": "markdown",
   "metadata": {},
   "source": [
    "### Linear Regression"
   ]
  },
  {
   "cell_type": "code",
   "execution_count": 10,
   "metadata": {},
   "outputs": [],
   "source": [
    "r2_test_simple = []\n",
    "RMSE_test_simple = []"
   ]
  },
  {
   "cell_type": "code",
   "execution_count": 11,
   "metadata": {},
   "outputs": [],
   "source": [
    "simple_linear = LinearRegression().fit(X_train, y_train) \n",
    "pred_linear = simple_linear.predict(X_test_val)"
   ]
  },
  {
   "cell_type": "code",
   "execution_count": 105,
   "metadata": {},
   "outputs": [
    {
     "name": "stdout",
     "output_type": "stream",
     "text": [
      "-- Linear Regression with all predictors  --\n",
      "Training R^2: 0.22483279754756136\n",
      "Test R^2: 0.20218152679274337\n",
      "Test RMSE: 3.58186261697588\n"
     ]
    }
   ],
   "source": [
    "print('-- Linear Regression with all predictors  --')\n",
    "print('Training R^2: {}'.format(simple_linear.score(X_train, y_train)))\n",
    "print('Test R^2: {}'.format(simple_linear.score(X_test_val, y_test_val)))\n",
    "print('Test RMSE: {}'.format(sqrt(mean_squared_error(y_test_val, pred_linear))))"
   ]
  },
  {
   "cell_type": "code",
   "execution_count": 13,
   "metadata": {},
   "outputs": [],
   "source": [
    "r2_test_simple.append(simple_linear.score(X_test_val, y_test_val))\n",
    "RMSE_test_simple.append(sqrt(mean_squared_error(y_test_val, pred_linear)))"
   ]
  },
  {
   "cell_type": "code",
   "execution_count": 114,
   "metadata": {},
   "outputs": [
    {
     "data": {
      "text/plain": [
       "['D:\\\\Università\\\\SL\\\\Pickle_models\\\\simple_linear.pkl']"
      ]
     },
     "execution_count": 114,
     "metadata": {},
     "output_type": "execute_result"
    }
   ],
   "source": [
    "joblib.dump(simple_linear, 'D:\\\\Università\\\\SL\\\\Pickle_models\\\\simple_linear.pkl')"
   ]
  },
  {
   "cell_type": "markdown",
   "metadata": {},
   "source": [
    "### Ridge Regression"
   ]
  },
  {
   "cell_type": "code",
   "execution_count": 14,
   "metadata": {},
   "outputs": [],
   "source": [
    "#Training the model\n",
    "alphas = [0.00001, 0.0001, 0.001, 0.01, 0.1, 1, 10, 100, 1000, 10000, 100000]\n",
    "ridge_linear = RidgeCV(alphas=alphas, fit_intercept=True).fit(X_train, y_train)\n",
    "pred_ridge = ridge_linear.predict(X_test_val)"
   ]
  },
  {
   "cell_type": "code",
   "execution_count": 104,
   "metadata": {},
   "outputs": [
    {
     "name": "stdout",
     "output_type": "stream",
     "text": [
      "-- Ridge Regression with all predictors --\n",
      "Training R^2: 0.22438893398122872\n",
      "Test R^2: 0.20417025701507696\n",
      "Test RMSE: 3.5773955587813444\n"
     ]
    }
   ],
   "source": [
    "print('-- Ridge Regression with all predictors --')\n",
    "print('Training R^2: {}'.format(ridge_linear.score(X_train, y_train)))\n",
    "print('Test R^2: {}'.format(ridge_linear.score(X_test_val, y_test_val)))\n",
    "print('Test RMSE: {}'.format(sqrt(mean_squared_error(y_test_val, pred_ridge))))"
   ]
  },
  {
   "cell_type": "code",
   "execution_count": 16,
   "metadata": {},
   "outputs": [],
   "source": [
    "r2_test_simple.append(ridge_linear.score(X_test_val, y_test_val))\n",
    "RMSE_test_simple.append(sqrt(mean_squared_error(y_test_val, pred_ridge)))"
   ]
  },
  {
   "cell_type": "code",
   "execution_count": 115,
   "metadata": {},
   "outputs": [
    {
     "data": {
      "text/plain": [
       "['D:\\\\Università\\\\SL\\\\Pickle_models\\\\ridge_linear.pkl']"
      ]
     },
     "execution_count": 115,
     "metadata": {},
     "output_type": "execute_result"
    }
   ],
   "source": [
    "joblib.dump(ridge_linear, 'D:\\\\Università\\\\SL\\\\Pickle_models\\\\ridge_linear.pkl') "
   ]
  },
  {
   "cell_type": "markdown",
   "metadata": {},
   "source": [
    "### Lasso Regression"
   ]
  },
  {
   "cell_type": "code",
   "execution_count": 17,
   "metadata": {},
   "outputs": [],
   "source": [
    "#Training the model\n",
    "lasso_linear = LassoCV(alphas=alphas, fit_intercept=True).fit(X_train, y_train)\n",
    "pred_lasso = lasso_linear.predict(X_test_val)"
   ]
  },
  {
   "cell_type": "code",
   "execution_count": 102,
   "metadata": {},
   "outputs": [
    {
     "name": "stdout",
     "output_type": "stream",
     "text": [
      "-- Lasso Regression with all predictors --\n",
      "Training R^2: 0.22454578265509295\n",
      "Test R^2: 0.20345714168337958\n",
      "Test RMSE: 3.578997989710761\n"
     ]
    }
   ],
   "source": [
    "print('-- Lasso Regression with all predictors --')\n",
    "print('Training R^2: {}'.format(lasso_linear.score(X_train, y_train)))\n",
    "print('Test R^2: {}'.format(lasso_linear.score(X_test_val, y_test_val)))\n",
    "print('Test RMSE: {}'.format(sqrt(mean_squared_error(y_test_val, pred_lasso))))"
   ]
  },
  {
   "cell_type": "code",
   "execution_count": 19,
   "metadata": {},
   "outputs": [],
   "source": [
    "r2_test_simple.append(lasso_linear.score(X_test_val, y_test_val))\n",
    "RMSE_test_simple.append(sqrt(mean_squared_error(y_test_val, pred_lasso)))"
   ]
  },
  {
   "cell_type": "code",
   "execution_count": 116,
   "metadata": {},
   "outputs": [
    {
     "data": {
      "text/plain": [
       "['D:\\\\Università\\\\SL\\\\Pickle_models\\\\lasso_linear.pkl']"
      ]
     },
     "execution_count": 116,
     "metadata": {},
     "output_type": "execute_result"
    }
   ],
   "source": [
    "joblib.dump(lasso_linear, 'D:\\\\Università\\\\SL\\\\Pickle_models\\\\lasso_linear.pkl')"
   ]
  },
  {
   "cell_type": "markdown",
   "metadata": {},
   "source": [
    "### Random Forest"
   ]
  },
  {
   "cell_type": "code",
   "execution_count": 126,
   "metadata": {},
   "outputs": [],
   "source": [
    "RF_params = OrderedDict(\n",
    "    n_estimators = [2**(i+2) for i in np.arange(7)],\n",
    "    max_features = [0.1, 0.3, 0.5, 0.7, 0.9]\n",
    ")"
   ]
  },
  {
   "cell_type": "code",
   "execution_count": 130,
   "metadata": {},
   "outputs": [
    {
     "name": "stdout",
     "output_type": "stream",
     "text": [
      "-- Random Forest Regression --\n",
      "Maximum R^2 test score = 0.45146030200378284\n",
      "Optimal n_estimators = 256\n",
      "Optimal max_features = 0.9\n"
     ]
    }
   ],
   "source": [
    "for i, (n, f) in enumerate(product(*RF_params.values())):\n",
    "    \n",
    "    # Taking the best hyperparameters Random Forest Regressor\n",
    "    RF = RandomForestRegressor(oob_score=False, n_estimators=n, max_features=f, n_jobs=-1, \n",
    "                                    random_state=22).fit(X_train, y_train)\n",
    "    \n",
    "    actual_score = RF.score(X_test_val, y_test_val)\n",
    "    if i == 0:\n",
    "        best_score_RF = actual_score\n",
    "        best_params_RF = (n, f)\n",
    "        \n",
    "    elif actual_score > best_score_RF:\n",
    "            best_score_RF = actual_score\n",
    "            best_params_RF = (n, f)\n",
    "\n",
    "print('-- Random Forest Regression --')\n",
    "print('Maximum R^2 test score = {}'.format(best_score_RF))\n",
    "print('Optimal n_estimators = {}'.format(best_params_RF[0]))\n",
    "print('Optimal max_features = {}'.format(best_params_RF[1]))"
   ]
  },
  {
   "cell_type": "code",
   "execution_count": 20,
   "metadata": {},
   "outputs": [
    {
     "name": "stdout",
     "output_type": "stream",
     "text": [
      "-- Best Random Forest Regression --\n",
      "Training R^2: 0.9260064305231231\n",
      "Test R^2: 0.45126175258055223\n",
      "Test RMSE:  2.9705679858790766\n"
     ]
    }
   ],
   "source": [
    "#Training the model\n",
    "RF_simple = RandomForestRegressor(oob_score=False, n_estimators=256, max_features=0.5, n_jobs=-1, \n",
    "                                     random_state=22).fit(X_train, y_train)\n",
    "\n",
    "pred_RF = RF_simple.predict(X_test_val)\n",
    "print('-- Best Random Forest Regression --')\n",
    "print(\"Training R^2: {}\".format(RF_simple.score(X_train, y_train)))\n",
    "print(\"Test R^2: {}\".format(RF_simple.score(X_test_val, y_test_val)))\n",
    "print('Test RMSE: ', sqrt(mean_squared_error(y_test_val, pred_RF)))"
   ]
  },
  {
   "cell_type": "code",
   "execution_count": 21,
   "metadata": {},
   "outputs": [],
   "source": [
    "r2_test_simple.append(RF_simple.score(X_test_val, y_test_val))\n",
    "RMSE_test_simple.append(sqrt(mean_squared_error(y_test_val, pred_RF)))"
   ]
  },
  {
   "cell_type": "code",
   "execution_count": 22,
   "metadata": {},
   "outputs": [
    {
     "data": {
      "text/plain": [
       "['D:\\\\Università\\\\SL\\\\Pickle_models\\\\RF_regression.pkl']"
      ]
     },
     "execution_count": 22,
     "metadata": {},
     "output_type": "execute_result"
    }
   ],
   "source": [
    "joblib.dump(RF_simple, 'D:\\\\Università\\\\SL\\\\Pickle_models\\\\RF_regression.pkl')"
   ]
  },
  {
   "cell_type": "markdown",
   "metadata": {},
   "source": [
    "### Support Vector Machine"
   ]
  },
  {
   "cell_type": "code",
   "execution_count": 125,
   "metadata": {},
   "outputs": [],
   "source": [
    "SVM_params = OrderedDict(\n",
    "    gamma = ['scale', 'auto'],\n",
    "    C = [0.001, 0.01, 0.1, 1, 10, 25, 50, 100, 1000]\n",
    ")"
   ]
  },
  {
   "cell_type": "code",
   "execution_count": 129,
   "metadata": {},
   "outputs": [
    {
     "name": "stdout",
     "output_type": "stream",
     "text": [
      "-- Support Vector Machine --\n",
      "Maximum R^2 test score = 0.3891002228049627\n",
      "Optimal gamma = scale\n",
      "Optimal C = 25\n"
     ]
    }
   ],
   "source": [
    "k = 'rbf'\n",
    "for i, (gamma, C) in enumerate(product(*SVM_params.values())):\n",
    "    \n",
    "    # Best Hyperparameters for SVM\n",
    "    SVM = svm.SVR(gamma=gamma, C=C, kernel=k).fit(X_train, y_train)\n",
    "\n",
    "    actual_score = SVM.score(X_test_val, y_test_val)\n",
    "    if i == 0:\n",
    "        best_score_SVM = actual_score\n",
    "        best_params_SVM = (gamma, C)\n",
    "        \n",
    "    elif actual_score > best_score_SVM:\n",
    "            best_score_SVM = actual_score\n",
    "            best_params_SVM = (gamma, C)\n",
    "\n",
    "print('-- Support Vector Machine --')\n",
    "print('Maximum R^2 test score = {}'.format(best_score_SVM))\n",
    "print('Optimal gamma = {}'.format(best_params_SVM[0]))\n",
    "print('Optimal C = {}'.format(best_params_SVM[1]))"
   ]
  },
  {
   "cell_type": "code",
   "execution_count": 23,
   "metadata": {},
   "outputs": [
    {
     "name": "stdout",
     "output_type": "stream",
     "text": [
      "-- Best Support Vector Machine Regression --\n",
      "Training R^2: 0.7321200618953074\n",
      "Test R^2: 0.3891002228049627\n",
      "Test RMSE:  3.134309389725119\n"
     ]
    }
   ],
   "source": [
    "#Training the model\n",
    "SVM_model = svm.SVR(gamma='scale', C=25, kernel='rbf').fit(X_train, y_train)\n",
    "pred_SVM = SVM_model.predict(X_test_val)\n",
    "print('-- Best Support Vector Machine Regression --')\n",
    "print(\"Training R^2: {}\".format(SVM_model.score(X_train, y_train)))\n",
    "print(\"Test R^2: {}\".format(SVM_model.score(X_test_val, y_test_val)))\n",
    "print('Test RMSE: ', sqrt(mean_squared_error(y_test_val, pred_SVM)))"
   ]
  },
  {
   "cell_type": "code",
   "execution_count": 24,
   "metadata": {},
   "outputs": [],
   "source": [
    "r2_test_simple.append(SVM_model.score(X_test_val, y_test_val))\n",
    "RMSE_test_simple.append(sqrt(mean_squared_error(y_test_val, pred_SVM)))"
   ]
  },
  {
   "cell_type": "code",
   "execution_count": 25,
   "metadata": {},
   "outputs": [
    {
     "data": {
      "text/plain": [
       "['D:\\\\Università\\\\SL\\\\Pickle_models\\\\SVM_regression.pkl']"
      ]
     },
     "execution_count": 25,
     "metadata": {},
     "output_type": "execute_result"
    }
   ],
   "source": [
    "joblib.dump(SVM_model, 'D:\\\\Università\\\\SL\\\\Pickle_models\\\\SVM_regression.pkl')"
   ]
  },
  {
   "cell_type": "markdown",
   "metadata": {},
   "source": [
    "### AdaBoost Regressor"
   ]
  },
  {
   "cell_type": "code",
   "execution_count": 124,
   "metadata": {},
   "outputs": [],
   "source": [
    "AB_params = OrderedDict(\n",
    "    base_depths = [2, 4, 6, 8],\n",
    "    n_estimators = [2**(i+2) for i in np.arange(7)]\n",
    ")"
   ]
  },
  {
   "cell_type": "code",
   "execution_count": 128,
   "metadata": {},
   "outputs": [
    {
     "name": "stdout",
     "output_type": "stream",
     "text": [
      "-- AdaBoost Regression --\n",
      "Maximum R^2 test score = 0.39368499973698334\n",
      "Optimal base tree max_depth = 8\n",
      "Optimal n_estimators = 256\n"
     ]
    }
   ],
   "source": [
    "l_rate = 0.05\n",
    "\n",
    "for i, (d, n) in enumerate(product(*AB_params.values())):\n",
    "    \n",
    "    #Best Hyperparameters for AB\n",
    "    AB = AdaBoostRegressor(DecisionTreeRegressor(max_depth=d, random_state=123), n_estimators=n, \n",
    "                                learning_rate=l_rate, random_state=123).fit(X_train, y_train)\n",
    "    \n",
    "    actual_score = AB.score(X_test_val, y_test_val)\n",
    "    if i == 0:\n",
    "        best_score_AB = actual_score\n",
    "        best_params_AB = (d, n)\n",
    "        \n",
    "    elif actual_score > best_score_AB:\n",
    "            best_score_AB = actual_score\n",
    "            best_params_AB = (d, n)\n",
    "\n",
    "print('-- AdaBoost Regression --')\n",
    "print('Maximum R^2 test score = {}'.format(best_score_AB))\n",
    "print('Optimal base tree max_depth = {}'.format(best_params_AB[0]))\n",
    "print('Optimal n_estimators = {}'.format(best_params_AB[1]))"
   ]
  },
  {
   "cell_type": "code",
   "execution_count": 26,
   "metadata": {},
   "outputs": [
    {
     "name": "stdout",
     "output_type": "stream",
     "text": [
      "-- Best AdaBoost Regression --\n",
      "Training R^2: 0.6102412616154472\n",
      "Test R^2: 0.3928549392400644\n",
      "Test RMSE:  3.1246624868905926\n"
     ]
    }
   ],
   "source": [
    "#Training the model\n",
    "AB_model = AdaBoostRegressor(DecisionTreeRegressor(max_depth=8, random_state=123), \n",
    "                                 n_estimators=256, learning_rate=0.05, \n",
    "                                 random_state=22).fit(X_train, y_train)\n",
    "pred_ab = AB_model.predict(X_test_val)\n",
    "print('-- Best AdaBoost Regression --')\n",
    "print(\"Training R^2: {}\".format(AB_model.score(X_train, y_train)))\n",
    "print(\"Test R^2: {}\".format(AB_model.score(X_test_val, y_test_val)))\n",
    "print('Test RMSE: ', sqrt(mean_squared_error(y_test_val, pred_ab)))"
   ]
  },
  {
   "cell_type": "code",
   "execution_count": 27,
   "metadata": {},
   "outputs": [],
   "source": [
    "r2_test_simple.append(AB_model.score(X_test_val, y_test_val))\n",
    "RMSE_test_simple.append(sqrt(mean_squared_error(y_test_val, pred_ab)))"
   ]
  },
  {
   "cell_type": "code",
   "execution_count": 28,
   "metadata": {},
   "outputs": [
    {
     "data": {
      "text/plain": [
       "['D:\\\\Università\\\\SL\\\\Pickle_models\\\\AdaBoost_regression.pkl']"
      ]
     },
     "execution_count": 28,
     "metadata": {},
     "output_type": "execute_result"
    }
   ],
   "source": [
    "joblib.dump(AB_model, 'D:\\\\Università\\\\SL\\\\Pickle_models\\\\AdaBoost_regression.pkl')"
   ]
  },
  {
   "cell_type": "markdown",
   "metadata": {},
   "source": [
    "### ENSEMBLE : Random Forest + Support Vector Machine + AdaBoost + Ridge + Lasso + Linear Regression"
   ]
  },
  {
   "cell_type": "code",
   "execution_count": 29,
   "metadata": {},
   "outputs": [
    {
     "name": "stdout",
     "output_type": "stream",
     "text": [
      "--First Ensemble Method--\n",
      "Test R^2:  0.3866791933901552\n",
      "Test RMSE:  3.1405139687764474\n"
     ]
    }
   ],
   "source": [
    "#Computing the average predictions of all the models\n",
    "pred_all = np.zeros(len(X_test_val))\n",
    "models = [ridge_linear, simple_linear, lasso_linear, RF_simple, AB_model, SVM_model]\n",
    "for model in models:\n",
    "    predict = model.predict(X_test_val)\n",
    "    pred_all += predict\n",
    "\n",
    "pred_all = pred_all / len(models)\n",
    "print('--First Ensemble Method--')\n",
    "print('Test R^2: {}'.format(r2_score(y_test_val, pred_all)))\n",
    "print('Test RMSE: {}'.format(sqrt(mean_squared_error(y_test_val, pred_all))))"
   ]
  },
  {
   "cell_type": "code",
   "execution_count": 30,
   "metadata": {},
   "outputs": [],
   "source": [
    "r2_test_simple.append(r2_score(y_test_val, pred_all))\n",
    "RMSE_test_simple.append(sqrt(mean_squared_error(y_test_val, pred_all)))"
   ]
  },
  {
   "cell_type": "markdown",
   "metadata": {},
   "source": [
    "### ENSEMBLE : Random Forest + Support Vector Machine + AdaBoost"
   ]
  },
  {
   "cell_type": "code",
   "execution_count": 101,
   "metadata": {},
   "outputs": [
    {
     "name": "stdout",
     "output_type": "stream",
     "text": [
      "--Second Ensemble Method--\n",
      "Test R^2: 0.4719743871310579\n",
      "Test RMSE: 2.91396529473276\n"
     ]
    }
   ],
   "source": [
    "#Computing the average predictions of the best three models\n",
    "pred_RF_SVM_AB = np.zeros(len(X_test_val))\n",
    "models_chosen = [RF_simple, SVM_model, AB_model]\n",
    "for model in models_chosen:\n",
    "    predict = model.predict(X_test_val)\n",
    "    pred_RF_SVM_AB += predict\n",
    "    \n",
    "pred_RF_SVM_AB= pred_RF_SVM_AB / len(models_chosen)\n",
    "print('--Second Ensemble Method--')\n",
    "print('Test R^2: {}'.format(r2_score(y_test_val, pred_RF_SVM_AB)))\n",
    "print('Test RMSE: {}'.format(sqrt(mean_squared_error(y_test_val, pred_RF_SVM_AB))))"
   ]
  },
  {
   "cell_type": "code",
   "execution_count": 32,
   "metadata": {},
   "outputs": [],
   "source": [
    "r2_test_simple.append(r2_score(y_test_val, pred_RF_SVM_AB))\n",
    "RMSE_test_simple.append(sqrt(mean_squared_error(y_test_val, pred_RF_SVM_AB)))"
   ]
  },
  {
   "cell_type": "markdown",
   "metadata": {},
   "source": [
    "### META MODEL - Linear Regression with Random Forest + Support Vector Machine + AdaBoost Ridge + Lasso + Linear Regression"
   ]
  },
  {
   "cell_type": "code",
   "execution_count": 33,
   "metadata": {},
   "outputs": [],
   "source": [
    "#Taking the predictions of all the models\n",
    "meta_X_train = pd.DataFrame(columns = models)\n",
    "meta_X_test = pd.DataFrame(columns = models)\n",
    "for model in models:\n",
    "    meta_X_train[model] = model.predict(X_val)\n",
    "    meta_X_test[model] = model.predict(X_test)"
   ]
  },
  {
   "cell_type": "code",
   "execution_count": 34,
   "metadata": {},
   "outputs": [
    {
     "name": "stdout",
     "output_type": "stream",
     "text": [
      "-- Meta model 1: Linear Regression with all models --\n",
      "Train R^2: 0.49514501029017954\n",
      "Test R^2: 0.4938784113020669\n",
      "Test RMSE: 2.795454965255899\n"
     ]
    }
   ],
   "source": [
    "#and then using the predictions as train dataset\n",
    "meta_mod = LinearRegression().fit(meta_X_train, y_val)\n",
    "\n",
    "pred_meta = meta_mod.predict(meta_X_test)\n",
    "print('-- Meta model 1: Linear Regression with all models --')\n",
    "print(\"Train R^2: {}\".format(meta_mod.score(meta_X_train, y_val)))\n",
    "print(\"Test R^2: {}\".format(meta_mod.score(meta_X_test, y_test)))\n",
    "print(\"Test RMSE: {}\".format(sqrt(mean_squared_error(y_test, pred_meta))))"
   ]
  },
  {
   "cell_type": "code",
   "execution_count": 35,
   "metadata": {},
   "outputs": [],
   "source": [
    "r2_test_simple.append(meta_mod.score(meta_X_test, y_test))\n",
    "RMSE_test_simple.append(sqrt(mean_squared_error(y_test, pred_meta)))"
   ]
  },
  {
   "cell_type": "code",
   "execution_count": 138,
   "metadata": {},
   "outputs": [
    {
     "data": {
      "text/plain": [
       "['D:\\\\Università\\\\SL\\\\Pickle_models\\\\meta_mod_new.pkl']"
      ]
     },
     "execution_count": 138,
     "metadata": {},
     "output_type": "execute_result"
    }
   ],
   "source": [
    "joblib.dump(meta_mod, \"D:\\\\Università\\\\SL\\\\Pickle_models\\\\meta_mod_new.pkl\") "
   ]
  },
  {
   "cell_type": "markdown",
   "metadata": {},
   "source": [
    "### META MODEL - Linear Regression with Random Forest + Support Vector Machine + AdaBoost "
   ]
  },
  {
   "cell_type": "code",
   "execution_count": 36,
   "metadata": {},
   "outputs": [],
   "source": [
    "#Taking the predictions of the best three models\n",
    "meta_X_train_3 = pd.DataFrame(columns = models_chosen)\n",
    "meta_X_test_3 = pd.DataFrame(columns = models_chosen)\n",
    "for model in models_chosen:\n",
    "    meta_X_train_3[model] = model.predict(X_val)\n",
    "    meta_X_test_3[model] = model.predict(X_test)"
   ]
  },
  {
   "cell_type": "code",
   "execution_count": 38,
   "metadata": {},
   "outputs": [
    {
     "name": "stdout",
     "output_type": "stream",
     "text": [
      "-- Meta model 2: Linear Regression with the best three models --\n",
      "Train R^2: 0.4946097419790957\n",
      "Test R^2: 0.49434926255685263\n",
      "Test RMSE: 2.794154339300183\n"
     ]
    }
   ],
   "source": [
    "#and then using the predictions as train dataset\n",
    "meta_mod_3 = LinearRegression().fit(meta_X_train_3, y_val)\n",
    "\n",
    "pred_meta_3 = meta_mod_3.predict(meta_X_test_3)\n",
    "print('-- Meta model 2: Linear Regression with the best three models --')\n",
    "print(\"Train R^2: {}\".format(meta_mod_3.score(meta_X_train_3, y_val)))\n",
    "print(\"Test R^2: {}\".format(meta_mod_3.score(meta_X_test_3, y_test)))\n",
    "print(\"Test RMSE: {}\".format(sqrt(mean_squared_error(y_test, pred_meta_3))))"
   ]
  },
  {
   "cell_type": "code",
   "execution_count": 39,
   "metadata": {},
   "outputs": [],
   "source": [
    "r2_test_simple.append(meta_mod_3.score(meta_X_test_3, y_test))\n",
    "RMSE_test_simple.append(sqrt(mean_squared_error(y_test, pred_meta_3)))"
   ]
  },
  {
   "cell_type": "code",
   "execution_count": 137,
   "metadata": {},
   "outputs": [
    {
     "data": {
      "text/plain": [
       "['D:\\\\Università\\\\SL\\\\Pickle_models\\\\meta_mod_3.pkl']"
      ]
     },
     "execution_count": 137,
     "metadata": {},
     "output_type": "execute_result"
    }
   ],
   "source": [
    "joblib.dump(meta_mod_3, \"D:\\\\Università\\\\SL\\\\Pickle_models\\\\meta_mod_3.pkl\") "
   ]
  },
  {
   "cell_type": "markdown",
   "metadata": {},
   "source": [
    "### INTERACTION TERMS"
   ]
  },
  {
   "cell_type": "code",
   "execution_count": 40,
   "metadata": {},
   "outputs": [],
   "source": [
    "audio_features_avg = ['track_acousticness_avg', 'track_album_popularity_avg', 'track_danceability_avg',\n",
    "                    'track_duration_ms_avg', 'track_energy_avg', 'track_explicit_avg', \n",
    "                    'track_instrumentalness_avg', 'track_liveness_avg', 'track_loudness_avg', 'track_mode_avg', \n",
    "                    'track_speechiness_avg', 'track_tempo_avg', 'track_valence_avg']\n",
    "genres = ['genre_metal', 'genre_pop rap', 'genre_country', 'genre_dance', 'genre_edm', 'genre_jazz', 'genre_soul',\n",
    " 'genre_reggae', 'genre_blues', 'genre_korean pop', 'genre_rap', 'genre_r&b', 'genre_mellow', 'genre_pop',\n",
    " 'genre_indie', 'genre_elect', 'genre_funk', 'genre_indie pop', 'genre_punk', 'genre_other', 'genre_hip hop',\n",
    " 'genre_folk', 'genre_rock', 'genre_house', 'genre_classical']\n",
    "\n",
    "cross_terms = audio_features_avg + genres"
   ]
  },
  {
   "cell_type": "code",
   "execution_count": 41,
   "metadata": {},
   "outputs": [],
   "source": [
    "playlists_df_interaction = deepcopy(playlists_df_full)\n",
    "\n",
    "for feature in audio_features_avg:\n",
    "    for genre in genres:\n",
    "        playlists_df_interaction[feature+'_X_'+genre] = playlists_df_full[feature] * playlists_df_full[genre]"
   ]
  },
  {
   "cell_type": "code",
   "execution_count": 42,
   "metadata": {},
   "outputs": [],
   "source": [
    "X_train_int, X_test_val_int, y_train_int, y_test_val_int = train_test_split(playlists_df_interaction, target, \n",
    "                                                                            test_size=0.2, random_state=123)"
   ]
  },
  {
   "cell_type": "code",
   "execution_count": 43,
   "metadata": {},
   "outputs": [],
   "source": [
    "X_val_int, X_test_int, y_val_int, y_test_int = train_test_split(X_test_val_int, y_test_val_int, \n",
    "                                                                test_size=0.5, random_state=123)"
   ]
  },
  {
   "cell_type": "code",
   "execution_count": 44,
   "metadata": {},
   "outputs": [],
   "source": [
    "id_train_int = X_train_int['id']\n",
    "id_val_int = X_val_int['id']\n",
    "id_test_int = X_test_int['id']\n",
    "id_test_val_int = X_test_val_int['id']\n",
    "X_train_int.drop(['id'], axis = 1, inplace = True)\n",
    "X_val_int.drop(['id'], axis = 1, inplace = True)\n",
    "X_test_int.drop(['id'], axis = 1, inplace = True)\n",
    "X_test_val_int.drop(['id'], axis = 1, inplace = True)"
   ]
  },
  {
   "cell_type": "code",
   "execution_count": 45,
   "metadata": {},
   "outputs": [],
   "source": [
    "for col in X_train_int.columns:\n",
    "    if (X_train_int[col] == 0).all():\n",
    "        X_train_int.drop(col, axis=1, inplace=True)\n",
    "        X_test_int.drop(col, axis=1, inplace=True)\n",
    "        X_val_int.drop(col, axis=1, inplace=True)\n",
    "        X_test_val_int.drop(col, axis = 1, inplace = True)\n",
    "    else:\n",
    "        # Taking only numerical variables\n",
    "        if not np.logical_or((X_train_int[col]==0), ((X_train_int[col]==1))).all():\n",
    "            mean_train = X_train_int[col].mean()\n",
    "            std_train = X_train_int[col].std()\n",
    "            X_train_int[col] = (X_train_int[col] - mean_train) / std_train\n",
    "            X_val_int[col] = (X_val_int[col] - mean_train) / std_train\n",
    "            X_test_int[col] = (X_test_int[col] - mean_train) / std_train\n",
    "            X_test_val_int[col] = (X_test_val_int[col] - mean_train) / std_train"
   ]
  },
  {
   "cell_type": "markdown",
   "metadata": {},
   "source": [
    "### Linear Regression"
   ]
  },
  {
   "cell_type": "code",
   "execution_count": 46,
   "metadata": {},
   "outputs": [],
   "source": [
    "r2_test_int = []\n",
    "RMSE_test_int = []"
   ]
  },
  {
   "cell_type": "code",
   "execution_count": 47,
   "metadata": {},
   "outputs": [],
   "source": [
    "#Training the model\n",
    "int_linear = LinearRegression().fit(X_train_int, y_train) \n",
    "pred_linear_int = int_linear.predict(X_test_val_int)"
   ]
  },
  {
   "cell_type": "code",
   "execution_count": 106,
   "metadata": {},
   "outputs": [
    {
     "name": "stdout",
     "output_type": "stream",
     "text": [
      "-- Linear Regression with Interaction Terms --\n",
      "Training R^2: 0.2889510453728311\n",
      "Test R^2: -6.779977369016876e+20\n",
      "Test RMSE: 104416949781.1035\n"
     ]
    }
   ],
   "source": [
    "print('-- Linear Regression with Interaction Terms --')\n",
    "print('Training R^2: {}'.format(int_linear.score(X_train_int, y_train)))\n",
    "print('Test R^2: {}'.format(int_linear.score(X_test_val_int, y_test_val)))\n",
    "print('Test RMSE: {}'.format(sqrt(mean_squared_error(y_test_val, pred_linear_int))))"
   ]
  },
  {
   "cell_type": "code",
   "execution_count": 49,
   "metadata": {},
   "outputs": [],
   "source": [
    "r2_test_int.append(int_linear.score(X_test_val_int, y_test_val))\n",
    "RMSE_test_int.append(sqrt(mean_squared_error(y_test_val, pred_linear_int)))"
   ]
  },
  {
   "cell_type": "code",
   "execution_count": 136,
   "metadata": {},
   "outputs": [
    {
     "data": {
      "text/plain": [
       "['D:\\\\Università\\\\SL\\\\Pickle_models\\\\int_linear.pkl']"
      ]
     },
     "execution_count": 136,
     "metadata": {},
     "output_type": "execute_result"
    }
   ],
   "source": [
    "joblib.dump(int_linear, 'D:\\\\Università\\\\SL\\\\Pickle_models\\\\int_linear.pkl')"
   ]
  },
  {
   "cell_type": "markdown",
   "metadata": {},
   "source": [
    "### Ridge Regression"
   ]
  },
  {
   "cell_type": "code",
   "execution_count": 50,
   "metadata": {},
   "outputs": [],
   "source": [
    "#Training the model\n",
    "ridge_int = RidgeCV(alphas=alphas, fit_intercept=True).fit(X_train_int, y_train)\n",
    "pred_ridge_int = ridge_int.predict(X_test_val_int)"
   ]
  },
  {
   "cell_type": "code",
   "execution_count": 107,
   "metadata": {},
   "outputs": [
    {
     "name": "stdout",
     "output_type": "stream",
     "text": [
      "-- Ridge Regression with Interaction Terms --\n",
      "Training R^2: 0.2638163447695431\n",
      "Test R^2: 0.2072719962656916\n",
      "Test RMSE: 3.5704173192628716\n"
     ]
    }
   ],
   "source": [
    "print('-- Ridge Regression with Interaction Terms --')\n",
    "print('Training R^2: {}'.format(ridge_int.score(X_train_int, y_train)))\n",
    "print('Test R^2: {}'.format(ridge_int.score(X_test_val_int, y_test_val)))\n",
    "print('Test RMSE: {}'.format(sqrt(mean_squared_error(y_test_val, pred_ridge_int))))"
   ]
  },
  {
   "cell_type": "code",
   "execution_count": 52,
   "metadata": {},
   "outputs": [],
   "source": [
    "r2_test_int.append(ridge_int.score(X_test_val_int, y_test_val))\n",
    "RMSE_test_int.append(sqrt(mean_squared_error(y_test_val, pred_ridge_int)))"
   ]
  },
  {
   "cell_type": "code",
   "execution_count": 131,
   "metadata": {},
   "outputs": [
    {
     "data": {
      "text/plain": [
       "['D:\\\\Università\\\\SL\\\\Pickle_models\\\\ridge_int.pkl']"
      ]
     },
     "execution_count": 131,
     "metadata": {},
     "output_type": "execute_result"
    }
   ],
   "source": [
    "joblib.dump(ridge_int, 'D:\\\\Università\\\\SL\\\\Pickle_models\\\\ridge_int.pkl') "
   ]
  },
  {
   "cell_type": "markdown",
   "metadata": {},
   "source": [
    "### Lasso Regression"
   ]
  },
  {
   "cell_type": "code",
   "execution_count": 53,
   "metadata": {},
   "outputs": [],
   "source": [
    "#Training the model\n",
    "lasso_int = LassoCV(alphas=alphas, fit_intercept=True).fit(X_train_int, y_train)\n",
    "pred_lasso_int = lasso_int.predict(X_test_val_int)"
   ]
  },
  {
   "cell_type": "code",
   "execution_count": 108,
   "metadata": {},
   "outputs": [
    {
     "name": "stdout",
     "output_type": "stream",
     "text": [
      "-- Lasso Regression with Interaction Terms --\n",
      "Training R^2: 0.253127660618521\n",
      "Test R^2: 0.21949630309340484\n",
      "Test RMSE: 3.5427814545581637\n"
     ]
    }
   ],
   "source": [
    "print('-- Lasso Regression with Interaction Terms --')\n",
    "print('Training R^2: {}'.format(lasso_int.score(X_train_int, y_train)))\n",
    "print('Test R^2: {}'.format(lasso_int.score(X_test_val_int, y_test_val)))\n",
    "print('Test RMSE: {}'.format(sqrt(mean_squared_error(y_test_val, pred_lasso_int))))"
   ]
  },
  {
   "cell_type": "code",
   "execution_count": 55,
   "metadata": {},
   "outputs": [],
   "source": [
    "r2_test_int.append(lasso_int.score(X_test_val_int, y_test_val))\n",
    "RMSE_test_int.append(sqrt(mean_squared_error(y_test_val, pred_lasso_int)))"
   ]
  },
  {
   "cell_type": "code",
   "execution_count": 132,
   "metadata": {},
   "outputs": [
    {
     "data": {
      "text/plain": [
       "['D:\\\\Università\\\\SL\\\\Pickle_models\\\\lasso_int.pkl']"
      ]
     },
     "execution_count": 132,
     "metadata": {},
     "output_type": "execute_result"
    }
   ],
   "source": [
    "joblib.dump(lasso_int, 'D:\\\\Università\\\\SL\\\\Pickle_models\\\\lasso_int.pkl')"
   ]
  },
  {
   "cell_type": "markdown",
   "metadata": {},
   "source": [
    "### Random Forest"
   ]
  },
  {
   "cell_type": "code",
   "execution_count": 134,
   "metadata": {},
   "outputs": [
    {
     "name": "stdout",
     "output_type": "stream",
     "text": [
      "-- Random Forest Regression with Interaction Terms--\n",
      "Maximum R^2 test score = 0.4566407806692693\n",
      "Optimal n_estimators = 256\n",
      "Optimal max_features = 0.9\n"
     ]
    }
   ],
   "source": [
    "# HyperParameters on Random Forest Regressor\n",
    "for i, (n, f) in enumerate(product(*RF_params.values())):\n",
    "    \n",
    "    RF = RandomForestRegressor(oob_score=False, n_estimators=n, max_features=f, n_jobs=-1, \n",
    "                                    random_state=22).fit(X_train_int, y_train)\n",
    "\n",
    "    actual_score = RF.score(X_test_val_int, y_test_val)\n",
    "    if i == 0:\n",
    "        best_score_RF_int = actual_score\n",
    "        best_params_RF_int = (n, f)\n",
    "        \n",
    "    elif actual_score > best_score_RF_int:\n",
    "            best_score_RF_int = actual_score\n",
    "            best_params_RF_int = (n, f)\n",
    "\n",
    "print('-- Random Forest Regression with Interaction Terms--')\n",
    "print('Maximum R^2 test score = {}'.format(best_score_RF_int))\n",
    "print('Optimal n_estimators = {}'.format(best_params_RF_int[0]))\n",
    "print('Optimal max_features = {}'.format(best_params_RF_int[1]))"
   ]
  },
  {
   "cell_type": "code",
   "execution_count": 109,
   "metadata": {},
   "outputs": [
    {
     "name": "stdout",
     "output_type": "stream",
     "text": [
      "-- Best Random Forest Regression with Interaction Terms --\n",
      "Training R^2: 0.926704794965826\n",
      "Test R^2: 0.45664078066926916\n",
      "Test RMSE: 2.9559725754578765\n"
     ]
    }
   ],
   "source": [
    "#Training the model\n",
    "RF_int = RandomForestRegressor(oob_score=False, n_estimators=256, max_features=0.9, n_jobs=-1, \n",
    "                                     random_state=22).fit(X_train_int, y_train)\n",
    "pred_RF_int = RF_int.predict(X_test_val_int)\n",
    "print('-- Best Random Forest Regression with Interaction Terms --')\n",
    "print(\"Training R^2: {}\".format(RF_int.score(X_train_int, y_train)))\n",
    "print(\"Test R^2: {}\".format(RF_int.score(X_test_val_int, y_test_val)))\n",
    "print('Test RMSE: {}'.format(sqrt(mean_squared_error(y_test_val, pred_RF_int))))"
   ]
  },
  {
   "cell_type": "code",
   "execution_count": 57,
   "metadata": {},
   "outputs": [],
   "source": [
    "r2_test_int.append(RF_int.score(X_test_val_int, y_test_val))\n",
    "RMSE_test_int.append(sqrt(mean_squared_error(y_test_val, pred_RF_int)))"
   ]
  },
  {
   "cell_type": "code",
   "execution_count": 58,
   "metadata": {},
   "outputs": [
    {
     "data": {
      "text/plain": [
       "['D:\\\\Università\\\\SL\\\\Pickle_models\\\\RF_int.pkl']"
      ]
     },
     "execution_count": 58,
     "metadata": {},
     "output_type": "execute_result"
    }
   ],
   "source": [
    "joblib.dump(RF_int, 'D:\\\\Università\\\\SL\\\\Pickle_models\\\\RF_int.pkl')"
   ]
  },
  {
   "cell_type": "markdown",
   "metadata": {},
   "source": [
    "### Support Vector Machine"
   ]
  },
  {
   "cell_type": "code",
   "execution_count": 135,
   "metadata": {},
   "outputs": [
    {
     "name": "stdout",
     "output_type": "stream",
     "text": [
      "-- Support Vector Machines with Interaction Terms--\n",
      "Maximum R^2 test score = 0.25333268909447637\n",
      "Optimal gamma = scale\n",
      "Optimal C = 25\n"
     ]
    }
   ],
   "source": [
    "k = 'rbf'\n",
    "\n",
    "# Hyper Parameters on Support Vector Machine\n",
    "for i, (gamma, C) in enumerate(product(*SVM_params.values())):\n",
    "    \n",
    "    SVM = svm.SVR(gamma=gamma, C=C, kernel=k).fit(X_train_int, y_train)\n",
    "    \n",
    "    actual_score = SVM.score(X_test_val_int, y_test_val)\n",
    "    if i == 0:\n",
    "        best_score_SVM_int = actual_score\n",
    "        best_params_SVM_int = (gamma, C)\n",
    "        \n",
    "    elif actual_score > best_score_SVM_int:\n",
    "            best_score_SVM_int = actual_score\n",
    "            best_params_SVM_int = (gamma, C)\n",
    "\n",
    "print('-- Support Vector Machines with Interaction Terms--')\n",
    "print('Maximum R^2 test score = {}'.format(best_score_SVM_int))\n",
    "print('Optimal gamma = {}'.format(best_params_SVM_int[0]))\n",
    "print('Optimal C = {}'.format(best_params_SVM_int[1]))"
   ]
  },
  {
   "cell_type": "code",
   "execution_count": 110,
   "metadata": {},
   "outputs": [
    {
     "name": "stdout",
     "output_type": "stream",
     "text": [
      "-- Best Support Vector Machine Regression --\n",
      "Training R^2: 0.4743599273261613\n",
      "Test R^2: 0.25333268909447637\n",
      "Test RMSE: 3.4651373166760613\n"
     ]
    }
   ],
   "source": [
    "#Training the model\n",
    "SVM_model_int = svm.SVR(gamma='scale', C=25, kernel='rbf').fit(X_train_int, y_train)\n",
    "\n",
    "pred_SVM_int = SVM_model_int.predict(X_test_val_int)\n",
    "print('-- Best Support Vector Machine Regression --')\n",
    "print(\"Training R^2: {}\".format(SVM_model_int.score(X_train_int, y_train)))\n",
    "print(\"Test R^2: {}\".format(SVM_model_int.score(X_test_val_int, y_test_val)))\n",
    "print('Test RMSE: {}'.format(sqrt(mean_squared_error(y_test_val, pred_SVM_int))))"
   ]
  },
  {
   "cell_type": "code",
   "execution_count": 60,
   "metadata": {},
   "outputs": [],
   "source": [
    "r2_test_int.append(SVM_model_int.score(X_test_val_int, y_test_val))\n",
    "RMSE_test_int.append(sqrt(mean_squared_error(y_test_val, pred_SVM_int)))"
   ]
  },
  {
   "cell_type": "code",
   "execution_count": 61,
   "metadata": {},
   "outputs": [
    {
     "data": {
      "text/plain": [
       "['D:\\\\Università\\\\SL\\\\Pickle_models\\\\SVM_model_int.pkl']"
      ]
     },
     "execution_count": 61,
     "metadata": {},
     "output_type": "execute_result"
    }
   ],
   "source": [
    "joblib.dump(SVM_model_int, 'D:\\\\Università\\\\SL\\\\Pickle_models\\\\SVM_model_int.pkl')"
   ]
  },
  {
   "cell_type": "markdown",
   "metadata": {},
   "source": [
    "### AdaBoost"
   ]
  },
  {
   "cell_type": "code",
   "execution_count": 139,
   "metadata": {},
   "outputs": [
    {
     "name": "stdout",
     "output_type": "stream",
     "text": [
      "-- AdaBoost Regression with Interaction Terms--\n",
      "Maximum R^2 test score = 0.3847715139004104\n",
      "Optimal base tree max_depth = (8, 256)\n",
      "Optimal n_estimators = 256\n"
     ]
    }
   ],
   "source": [
    "l_rate = 0.05\n",
    "\n",
    "# Hyper Parameters on AdaBoost\n",
    "for i, (d, n) in enumerate(product(*AB_params.values())):\n",
    "    \n",
    "    AB = AdaBoostRegressor(DecisionTreeRegressor(max_depth=d, random_state=123), n_estimators=n, \n",
    "                                learning_rate=l_rate, random_state=123).fit(X_train_int, y_train)\n",
    "\n",
    "    actual_score = AB.score(X_test_val_int, y_test_val)\n",
    "    if i == 0:\n",
    "        best_score_AB_int = actual_score\n",
    "        best_params_AB_int = (d, n)\n",
    "        \n",
    "    elif actual_score > best_score_AB_int:\n",
    "            best_score_AB_int = actual_score\n",
    "            best_params_AB_int = (d, n)    \n",
    "    \n",
    "print('-- AdaBoost Regression with Interaction Terms--')\n",
    "print('Maximum R^2 test score = {}'.format(best_score_AB_int))\n",
    "print('Optimal base tree max_depth = {}'.format(best_params_AB_int))\n",
    "print('Optimal n_estimators = {}'.format(best_params_AB_int[1]))"
   ]
  },
  {
   "cell_type": "code",
   "execution_count": 111,
   "metadata": {},
   "outputs": [
    {
     "name": "stdout",
     "output_type": "stream",
     "text": [
      "-- Best AdaBoost Regression --\n",
      "Training R^2: 0.5983087305454368\n",
      "Test R^2: 0.38190702574144597\n",
      "Test RMSE: 3.1527082550225614\n"
     ]
    }
   ],
   "source": [
    "#Training the model\n",
    "AB_model_int = AdaBoostRegressor(DecisionTreeRegressor(max_depth=8, random_state=123), n_estimators=256, \n",
    "                                 learning_rate=0.05, random_state=22).fit(X_train_int, y_train)\n",
    "pred_AB_int = AB_model_int.predict(X_test_val_int)\n",
    "print('-- Best AdaBoost Regression --')\n",
    "print(\"Training R^2: {}\".format(AB_model_int.score(X_train_int, y_train)))\n",
    "print(\"Test R^2: {}\".format(AB_model_int.score(X_test_val_int, y_test_val)))\n",
    "print('Test RMSE: {}'.format(sqrt(mean_squared_error(y_test_val, pred_AB_int))))"
   ]
  },
  {
   "cell_type": "code",
   "execution_count": 63,
   "metadata": {},
   "outputs": [],
   "source": [
    "r2_test_int.append(AB_model_int.score(X_test_val_int, y_test_val))\n",
    "RMSE_test_int.append(sqrt(mean_squared_error(y_test_val, pred_AB_int)))"
   ]
  },
  {
   "cell_type": "code",
   "execution_count": 64,
   "metadata": {},
   "outputs": [
    {
     "data": {
      "text/plain": [
       "['D:\\\\Università\\\\SL\\\\Pickle_models\\\\AB_model_int.pkl']"
      ]
     },
     "execution_count": 64,
     "metadata": {},
     "output_type": "execute_result"
    }
   ],
   "source": [
    "joblib.dump(AB_model_int, 'D:\\\\Università\\\\SL\\\\Pickle_models\\\\AB_model_int.pkl')"
   ]
  },
  {
   "cell_type": "markdown",
   "metadata": {},
   "source": [
    "### ENSEMBLE : Random Forest + Support Vector Machine + AdaBoost + Ridge + Lasso + Linear Regression"
   ]
  },
  {
   "cell_type": "code",
   "execution_count": 112,
   "metadata": {},
   "outputs": [
    {
     "name": "stdout",
     "output_type": "stream",
     "text": [
      "--First Ensemble Method--\n",
      "Test R^2: 0.37453284591904834\n",
      "Test RMSE: 3.1714592415087615\n"
     ]
    }
   ],
   "source": [
    "#Taking the predictions mean of all models except Linear Regression \n",
    "pred_all_int = np.zeros(len(X_test_val_int))\n",
    "models_int = [ridge_int, lasso_int, RF_int, AB_model_int, SVM_model_int]\n",
    "for model in models_int:\n",
    "    predict = model.predict(X_test_val_int)\n",
    "    pred_all_int += predict\n",
    "\n",
    "pred_all_int = pred_all_int / len(models_int)\n",
    "print('--First Ensemble Method--')\n",
    "print('Test R^2: {}'.format(r2_score(y_test_val, pred_all_int)))\n",
    "print('Test RMSE: {}'.format(sqrt(mean_squared_error(y_test_val, pred_all_int))))"
   ]
  },
  {
   "cell_type": "code",
   "execution_count": 66,
   "metadata": {},
   "outputs": [],
   "source": [
    "r2_test_int.append(r2_score(y_test_val, pred_all_int))\n",
    "RMSE_test_int.append(sqrt(mean_squared_error(y_test_val, pred_all_int)))"
   ]
  },
  {
   "cell_type": "markdown",
   "metadata": {},
   "source": [
    "### ENSEMBLE : Random Forest + Support Vector Machine + AdaBoost"
   ]
  },
  {
   "cell_type": "code",
   "execution_count": 113,
   "metadata": {},
   "outputs": [
    {
     "name": "stdout",
     "output_type": "stream",
     "text": [
      "--Second Ensemble Method--\n",
      "Test R^2: 0.42464646261157957\n",
      "Test RMSE: 3.0417553049605437\n"
     ]
    }
   ],
   "source": [
    "#Taking the predictions mean of the best three models  \n",
    "pred_RF_SVM_AB_int = np.zeros(len(X_test_val_int))\n",
    "models_chosen_int = [RF_int, SVM_model_int, AB_model_int]\n",
    "for model in models_chosen_int:\n",
    "    predict = model.predict(X_test_val_int)\n",
    "    pred_RF_SVM_AB_int += predict\n",
    "    \n",
    "pred_RF_SVM_AB_int = pred_RF_SVM_AB_int / len(models_chosen_int)\n",
    "print('--Second Ensemble Method--')\n",
    "print('Test R^2: {}'.format(r2_score(y_test_val, pred_RF_SVM_AB_int)))\n",
    "print('Test RMSE: {}'.format(sqrt(mean_squared_error(y_test_val, pred_RF_SVM_AB_int))))"
   ]
  },
  {
   "cell_type": "code",
   "execution_count": 68,
   "metadata": {},
   "outputs": [],
   "source": [
    "r2_test_int.append(r2_score(y_test_val, pred_RF_SVM_AB_int))\n",
    "RMSE_test_int.append(sqrt(mean_squared_error(y_test_val, pred_RF_SVM_AB_int)))"
   ]
  },
  {
   "cell_type": "markdown",
   "metadata": {},
   "source": [
    "### META MODEL - Linear Regression with Random Forest + Support Vector Machine + AdaBoost + Ridge + Lasso "
   ]
  },
  {
   "cell_type": "code",
   "execution_count": 69,
   "metadata": {},
   "outputs": [],
   "source": [
    "#Taking the predictions of all the models\n",
    "meta_X_train_int = pd.DataFrame(columns = models_int)\n",
    "meta_X_test_int = pd.DataFrame(columns = models_int)\n",
    "for model in models_int:\n",
    "    meta_X_train_int[model] = model.predict(X_val_int)\n",
    "    meta_X_test_int[model] = model.predict(X_test_int)"
   ]
  },
  {
   "cell_type": "code",
   "execution_count": 99,
   "metadata": {},
   "outputs": [
    {
     "name": "stdout",
     "output_type": "stream",
     "text": [
      "-- Meta model 1: Linear Regression with all the models --\n",
      "Train R^2: 0.4771408779711612\n",
      "Test R^2: 0.46857281054637645\n",
      "Test RMSE: 2.86448764966045\n"
     ]
    }
   ],
   "source": [
    "#And then using the predictions as train dataset\n",
    "meta_mod_int = LinearRegression().fit(meta_X_train_int, y_val) \n",
    "\n",
    "pred_meta_int = meta_mod_int.predict(meta_X_test_int)\n",
    "print('-- Meta model 1: Linear Regression with all the models --')\n",
    "print(\"Train R^2: {}\".format(meta_mod_int.score(meta_X_train_int, y_val)))\n",
    "print(\"Test R^2: {}\".format(meta_mod_int.score(meta_X_test_int, y_test)))\n",
    "print(\"Test RMSE: {}\".format(sqrt(mean_squared_error(y_test, pred_meta_int))))"
   ]
  },
  {
   "cell_type": "code",
   "execution_count": 71,
   "metadata": {},
   "outputs": [],
   "source": [
    "r2_test_int.append(meta_mod_int.score(meta_X_test_int, y_test))\n",
    "RMSE_test_int.append(sqrt(mean_squared_error(y_test, pred_meta_int)))"
   ]
  },
  {
   "cell_type": "code",
   "execution_count": 140,
   "metadata": {},
   "outputs": [
    {
     "data": {
      "text/plain": [
       "['D:\\\\Università\\\\SL\\\\Pickle_models\\\\meta_mod_int.pkl']"
      ]
     },
     "execution_count": 140,
     "metadata": {},
     "output_type": "execute_result"
    }
   ],
   "source": [
    "joblib.dump(meta_mod_int, 'D:\\\\Università\\\\SL\\\\Pickle_models\\\\meta_mod_int.pkl')"
   ]
  },
  {
   "cell_type": "markdown",
   "metadata": {},
   "source": [
    "### META MODEL - Linear Regression with Random Forest + Support Vector Machine + AdaBoost  "
   ]
  },
  {
   "cell_type": "code",
   "execution_count": 72,
   "metadata": {},
   "outputs": [],
   "source": [
    "#Taking the predictions of the best three models\n",
    "meta_X_train_3_int = pd.DataFrame(columns = models_chosen_int)\n",
    "meta_X_test_3_int = pd.DataFrame(columns = models_chosen_int)\n",
    "for model in models_chosen_int:\n",
    "    meta_X_train_3_int[model] = model.predict(X_val_int)\n",
    "    meta_X_test_3_int[model] = model.predict(X_test_int)"
   ]
  },
  {
   "cell_type": "code",
   "execution_count": 98,
   "metadata": {},
   "outputs": [
    {
     "name": "stdout",
     "output_type": "stream",
     "text": [
      "-- Meta model 2: Linear Regression with the best three models --\n",
      "Train R^2: 0.4730737411015725\n",
      "Test R^2: 0.4660789796026794\n",
      "Test RMSE: 2.8712008806035767\n"
     ]
    }
   ],
   "source": [
    "#And then using the predictions as train dataset\n",
    "meta_mod_3_int = LinearRegression().fit(meta_X_train_3_int, y_val)\n",
    " \n",
    "pred_meta_3_int = meta_mod_3_int.predict(meta_X_test_3_int)\n",
    "print('-- Meta model 2: Linear Regression with the best three models --')\n",
    "print(\"Train R^2: {}\".format(meta_mod_3_int.score(meta_X_train_3_int, y_val)))\n",
    "print(\"Test R^2: {}\".format(meta_mod_3_int.score(meta_X_test_3_int, y_test)))\n",
    "print(\"Test RMSE: {}\".format(sqrt(mean_squared_error(y_test, pred_meta_3_int))))"
   ]
  },
  {
   "cell_type": "code",
   "execution_count": 74,
   "metadata": {},
   "outputs": [],
   "source": [
    "r2_test_int.append(meta_mod_3_int.score(meta_X_test_3_int, y_test))\n",
    "RMSE_test_int.append(sqrt(mean_squared_error(y_test, pred_meta_3_int)))"
   ]
  },
  {
   "cell_type": "code",
   "execution_count": 141,
   "metadata": {},
   "outputs": [
    {
     "data": {
      "text/plain": [
       "['D:\\\\Università\\\\SL\\\\Pickle_models\\\\meta_mod_3_int.pkl']"
      ]
     },
     "execution_count": 141,
     "metadata": {},
     "output_type": "execute_result"
    }
   ],
   "source": [
    "joblib.dump(meta_mod_3_int, \"D:\\\\Università\\\\SL\\\\Pickle_models\\\\meta_mod_3_int.pkl\")"
   ]
  },
  {
   "cell_type": "markdown",
   "metadata": {},
   "source": [
    "### Plotting the results"
   ]
  },
  {
   "cell_type": "code",
   "execution_count": 95,
   "metadata": {},
   "outputs": [
    {
     "data": {
      "image/png": "[encoded data removed]",
      "text/plain": [
       "<Figure size 1440x720 with 1 Axes>"
      ]
     },
     "metadata": {
      "needs_background": "light"
     },
     "output_type": "display_data"
    }
   ],
   "source": [
    "##Plotting the R-Squared results\n",
    "model_names = ['RidgeCV', 'LassoCV', 'RF', 'SVM', 'Adaboost', 'Ensemble 1\\nRF+SVM+AB', 'Ensemble 2\\nAll Models',\n",
    "              'Meta Model\\nAll Models', 'Meta Model\\nRF+SVM+AB']\n",
    "r2_test_simple_new = r2_test_simple[1:len(r2_test_simple)]\n",
    "r2_test_int_new = r2_test_int[1:len(r2_test_int)]\n",
    "width = 0.3\n",
    "plt.figure(figsize=(20, 10))\n",
    "plt.bar(np.arange(len(model_names)), r2_test_simple_new, width, alpha=0.8, label='Original', color = 'green')\n",
    "plt.bar(np.arange(len(model_names))+width, r2_test_int_new, width, alpha=0.8, label='Original + Interaction', color = 'black')\n",
    "plt.xticks(np.arange(len(model_names))+0.5*width, model_names, fontsize=14)\n",
    "plt.title('Test $R^2$ VS. Models ', fontsize=20)\n",
    "plt.ylabel('Test $R^2$', fontsize=16)\n",
    "plt.legend(fontsize=14)\n",
    "plt.grid()\n",
    "plt.savefig('R2.jpg')\n",
    "plt.show()"
   ]
  },
  {
   "cell_type": "code",
   "execution_count": 97,
   "metadata": {},
   "outputs": [
    {
     "data": {
      "image/png": "[encoded data removed]",
      "text/plain": [
       "<Figure size 1440x720 with 1 Axes>"
      ]
     },
     "metadata": {
      "needs_background": "light"
     },
     "output_type": "display_data"
    }
   ],
   "source": [
    "##Plotting the RMSE results\n",
    "model_names = ['RidgeCV', 'LassoCV', 'RF', 'SVM', 'Adaboost', 'Ensemble 1\\nRF+SVM+AB', 'Ensemble 2\\nAll Models',\n",
    "              'Meta Model\\nAll Models', 'Meta Model\\nRF+SVM+AB']\n",
    "RMSE_test_simple_new = RMSE_test_simple[1:len(RMSE_test_simple)]\n",
    "RMSE_test_int_new = RMSE_test_int[1:len(RMSE_test_int)]\n",
    "width = 0.3\n",
    "plt.figure(figsize=(20, 10))\n",
    "plt.rcParams['axes.facecolor'] = 'whitesmoke'\n",
    "plt.grid()\n",
    "plt.bar(np.arange(len(model_names)), RMSE_test_simple_new, width, alpha=0.8, label='Original', color = 'green')\n",
    "plt.bar(np.arange(len(model_names))+width, RMSE_test_int_new, width, alpha=0.8, label='Original + Interaction', color = 'black')\n",
    "plt.xticks(np.arange(len(model_names))+0.5*width, model_names, fontsize=14)\n",
    "plt.title('Test RMSE VS. Models ', fontsize=20)\n",
    "plt.ylabel('Test RMSE', fontsize=16)\n",
    "plt.legend(fontsize=14)\n",
    "plt.savefig('RMSE.jpg')\n",
    "plt.show()"
   ]
  }
 ],
 "metadata": {
  "kernelspec": {
   "display_name": "Python 3",
   "language": "python",
   "name": "python3"
  },
  "language_info": {
   "codemirror_mode": {
    "name": "ipython",
    "version": 3
   },
   "file_extension": ".py",
   "mimetype": "text/x-python",
   "name": "python",
   "nbconvert_exporter": "python",
   "pygments_lexer": "ipython3",
   "version": "3.7.9"
  }
 },
 "nbformat": 4,
 "nbformat_minor": 4
}
